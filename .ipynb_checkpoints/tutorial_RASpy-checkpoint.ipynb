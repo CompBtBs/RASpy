{
 "cells": [
  {
   "cell_type": "markdown",
   "metadata": {},
   "source": [
    "Welcome! This is a tutorial about RASpy (Reaction Activity Scores in Python). \n",
    "In this notebook, we will show:\n",
    "- How to compute a RAS matrix starting from a scRNA-seq dataset and a metabolic model. \n",
    "- How to perform RAS cluster analysis\n",
    "- How to colour a map of a metabolic network with the metabolic differences (up-regulated or down-regulated RAS values) of two groups of cells"
   ]
  },
  {
   "cell_type": "markdown",
   "metadata": {},
   "source": [
    "## Load the data"
   ]
  },
  {
   "cell_type": "markdown",
   "metadata": {},
   "source": [
    "Load the metabolic model (SBML format)"
   ]
  },
  {
   "cell_type": "code",
   "execution_count": 1,
   "metadata": {},
   "outputs": [
    {
     "data": {
      "text/html": [
       "\n",
       "        <table>\n",
       "            <tr>\n",
       "                <td><strong>Name</strong></td>\n",
       "                <td>Recon3D</td>\n",
       "            </tr><tr>\n",
       "                <td><strong>Memory address</strong></td>\n",
       "                <td>0x018a396513d0</td>\n",
       "            </tr><tr>\n",
       "                <td><strong>Number of metabolites</strong></td>\n",
       "                <td>5835</td>\n",
       "            </tr><tr>\n",
       "                <td><strong>Number of reactions</strong></td>\n",
       "                <td>10600</td>\n",
       "            </tr><tr>\n",
       "                <td><strong>Number of groups</strong></td>\n",
       "                <td>0</td>\n",
       "            </tr><tr>\n",
       "                <td><strong>Objective expression</strong></td>\n",
       "                <td>1.0*BIOMASS_maintenance - 1.0*BIOMASS_maintenance_reverse_5b3f9</td>\n",
       "            </tr><tr>\n",
       "                <td><strong>Compartments</strong></td>\n",
       "                <td>cytosol, lysosome, mitochondria, endoplasmic reticulum, extracellular space, peroxisome/glyoxysome, nucleus, golgi apparatus, inner mitochondrial compartment</td>\n",
       "            </tr>\n",
       "          </table>"
      ],
      "text/plain": [
       "<Model Recon3D at 0x18a396513d0>"
      ]
     },
     "execution_count": 1,
     "metadata": {},
     "output_type": "execute_result"
    }
   ],
   "source": [
    "from cobra.io import read_sbml_model\n",
    "model=read_sbml_model('metabolic_models/RECON3_ensg.xml')\n",
    "model"
   ]
  },
  {
   "cell_type": "markdown",
   "metadata": {},
   "source": [
    "Load the count matrix (h5ad format). Such a dataset are reported as TPM and was downloaded from the  EBI Single Cell Expression Atlas (https://www.ebi.ac.uk/gxa/sc/experiments/E-GEOD-86618/downloads)"
   ]
  },
  {
   "cell_type": "code",
   "execution_count": 2,
   "metadata": {
    "scrolled": true
   },
   "outputs": [
    {
     "data": {
      "text/plain": [
       "AnnData object with n_obs × n_vars = 540 × 23909\n",
       "    obs: 'Sample Characteristic[organism]', 'Sample Characteristic Ontology Term[organism]', 'Sample Characteristic[individual]', 'Sample Characteristic Ontology Term[individual]', 'Sample Characteristic[organism part]', 'Sample Characteristic Ontology Term[organism part]', 'Sample Characteristic[cell type]', 'Sample Characteristic Ontology Term[cell type]', 'Sample Characteristic[facs marker]', 'Sample Characteristic Ontology Term[facs marker]', 'Sample Characteristic[disease]', 'Sample Characteristic Ontology Term[disease]', 'Factor Value[single cell identifier]', 'Factor Value Ontology Term[single cell identifier]', 'Factor Value[disease]', 'Factor Value Ontology Term[disease]'"
      ]
     },
     "execution_count": 2,
     "metadata": {},
     "output_type": "execute_result"
    }
   ],
   "source": [
    "import scanpy as sc\n",
    "adata=sc.read_h5ad(\"datasets/E-GEOD-86618_tpm\")\n",
    "adata"
   ]
  },
  {
   "cell_type": "markdown",
   "id": "627a826d",
   "metadata": {},
   "source": [
    "## Compute RAS values"
   ]
  },
  {
   "cell_type": "markdown",
   "metadata": {},
   "source": [
    "Inizialize the RAS object"
   ]
  },
  {
   "cell_type": "code",
   "execution_count": 3,
   "id": "b859ec14",
   "metadata": {},
   "outputs": [],
   "source": [
    "import sys\n",
    "sys.path.insert(1, 'raspy/')\n",
    "from ras import RAS_computation as rc\n",
    "ras_object=rc(adata,model)"
   ]
  },
  {
   "cell_type": "markdown",
   "metadata": {},
   "source": [
    "Compute the RAS values. As default, the sum and min functions are used for evaluating AND or OR operator. If a gene is\n",
    "not present in the count matrix, we removed it from the GPR."
   ]
  },
  {
   "cell_type": "code",
   "execution_count": null,
   "metadata": {},
   "outputs": [
    {
     "name": "stderr",
     "output_type": "stream",
     "text": [
      "  0%|                                                                         |\r"
     ]
    }
   ],
   "source": [
    "import time\n",
    "t0= time.time()\n",
    "ras_adata=ras_object.compute()\n",
    "t1 = time.time()-t0\n",
    "print(\"Time elapsed: \", t1) # CPU seconds elapsed "
   ]
  },
  {
   "cell_type": "markdown",
   "metadata": {},
   "source": [
    "The results of the RAS computation are saved in a AnnData object (obs x reactions)"
   ]
  },
  {
   "cell_type": "code",
   "execution_count": null,
   "metadata": {},
   "outputs": [],
   "source": [
    "ras_adata"
   ]
  },
  {
   "cell_type": "markdown",
   "metadata": {},
   "source": [
    "All the information about Cells from the countmatrix are saved in the RAS matrix starting with \"countmatrix_\""
   ]
  },
  {
   "cell_type": "code",
   "execution_count": null,
   "metadata": {
    "scrolled": true
   },
   "outputs": [],
   "source": [
    "ras_adata.obs"
   ]
  },
  {
   "cell_type": "markdown",
   "metadata": {},
   "source": [
    "For all the reactios, we report the associated GPR rule and the reactions having the same GPR"
   ]
  },
  {
   "cell_type": "code",
   "execution_count": null,
   "metadata": {},
   "outputs": [],
   "source": [
    "ras_adata.var"
   ]
  },
  {
   "cell_type": "markdown",
   "metadata": {},
   "source": [
    "Set the .raw attribute of the AnnData object for later use (see Section Colour Map) "
   ]
  },
  {
   "cell_type": "code",
   "execution_count": null,
   "metadata": {},
   "outputs": [],
   "source": [
    "ras_adata.raw=ras_adata\n",
    "ras_adata"
   ]
  },
  {
   "cell_type": "markdown",
   "metadata": {},
   "source": [
    "## Pre-processing of the RAS matrix"
   ]
  },
  {
   "cell_type": "markdown",
   "metadata": {},
   "source": [
    "Drop duplicates reaction (for example, the reaction having the same GPR)"
   ]
  },
  {
   "cell_type": "code",
   "execution_count": null,
   "metadata": {},
   "outputs": [],
   "source": [
    "reactions=list(ras_adata.to_df().T.drop_duplicates().index)\n",
    "ras_adata=ras_adata[:,reactions]\n",
    "ras_adata"
   ]
  },
  {
   "cell_type": "markdown",
   "metadata": {},
   "source": [
    "Total-count normalization"
   ]
  },
  {
   "cell_type": "code",
   "execution_count": null,
   "metadata": {},
   "outputs": [],
   "source": [
    "sc.pp.normalize_total(ras_adata, target_sum=1e4)"
   ]
  },
  {
   "cell_type": "markdown",
   "metadata": {},
   "source": [
    "Logarithmize the data"
   ]
  },
  {
   "cell_type": "code",
   "execution_count": null,
   "metadata": {},
   "outputs": [],
   "source": [
    "sc.pp.log1p(ras_adata)"
   ]
  },
  {
   "cell_type": "markdown",
   "metadata": {},
   "source": [
    "Scale each reaction score to unit variance. Clip values exceeding standard deviation 10."
   ]
  },
  {
   "cell_type": "code",
   "execution_count": null,
   "metadata": {},
   "outputs": [],
   "source": [
    "sc.pp.scale(ras_adata, max_value=10)"
   ]
  },
  {
   "cell_type": "markdown",
   "metadata": {},
   "source": [
    "## Principal component analysis"
   ]
  },
  {
   "cell_type": "markdown",
   "metadata": {},
   "source": [
    "Reduce the dimensionality of the data by running principal component analysis (PCA)"
   ]
  },
  {
   "cell_type": "code",
   "execution_count": null,
   "metadata": {},
   "outputs": [],
   "source": [
    "sc.tl.pca(ras_adata, svd_solver='arpack')"
   ]
  },
  {
   "cell_type": "markdown",
   "metadata": {},
   "source": [
    "Make a scatter plot in the PCA coordinates, showing some differences"
   ]
  },
  {
   "cell_type": "code",
   "execution_count": null,
   "metadata": {},
   "outputs": [],
   "source": [
    "from matplotlib.colors import ListedColormap\n",
    "sc.pl.pca(ras_adata, color=['countmatrix_Sample Characteristic[disease]'])"
   ]
  },
  {
   "cell_type": "markdown",
   "metadata": {},
   "source": [
    "Let us inspect the contribution of single PCs to the total variance in the data. "
   ]
  },
  {
   "cell_type": "code",
   "execution_count": null,
   "metadata": {},
   "outputs": [],
   "source": [
    "sc.pl.pca_variance_ratio(ras_adata, log=True)"
   ]
  },
  {
   "cell_type": "markdown",
   "id": "f5ca297d",
   "metadata": {},
   "source": [
    "## Compute the clustering (default cluster parameters)"
   ]
  },
  {
   "cell_type": "markdown",
   "id": "b3f91e58",
   "metadata": {},
   "source": [
    "Let us compute the neighborhood graph of cells using the PCA representation of the data matrix. "
   ]
  },
  {
   "cell_type": "code",
   "execution_count": null,
   "id": "1c97ea40",
   "metadata": {},
   "outputs": [],
   "source": [
    "sc.pp.neighbors(ras_adata)"
   ]
  },
  {
   "cell_type": "markdown",
   "id": "9e0c77cb",
   "metadata": {},
   "source": [
    "Cluster the cells using the Leiden algorithm"
   ]
  },
  {
   "cell_type": "code",
   "execution_count": null,
   "id": "dd64e2a9",
   "metadata": {},
   "outputs": [],
   "source": [
    "sc.tl.leiden(ras_adata)"
   ]
  },
  {
   "cell_type": "markdown",
   "id": "918711b7",
   "metadata": {},
   "source": [
    "Embed the graph in two dimensions using UMAP"
   ]
  },
  {
   "cell_type": "code",
   "execution_count": null,
   "metadata": {},
   "outputs": [],
   "source": [
    "sc.tl.umap(ras_adata)"
   ]
  },
  {
   "cell_type": "code",
   "execution_count": null,
   "metadata": {},
   "outputs": [],
   "source": [
    "sc.pl.umap(ras_adata, color=['leiden'])"
   ]
  },
  {
   "cell_type": "code",
   "execution_count": null,
   "metadata": {},
   "outputs": [],
   "source": [
    "sc.pl.umap(ras_adata, color=['countmatrix_Sample Characteristic[disease]'],\n",
    "                     palette={\"normal\":\"purple\",\"idiopathic pulmonary fibrosis\":\"orange\"})"
   ]
  },
  {
   "cell_type": "markdown",
   "metadata": {},
   "source": [
    "## Find best clustering"
   ]
  },
  {
   "cell_type": "markdown",
   "metadata": {},
   "source": [
    "Now, we select the hyper-parameters of cluster analysis using a grid search method and maximizing the Silhoutte index"
   ]
  },
  {
   "cell_type": "code",
   "execution_count": null,
   "metadata": {},
   "outputs": [],
   "source": [
    "from utils import find_bh"
   ]
  },
  {
   "cell_type": "code",
   "execution_count": null,
   "metadata": {},
   "outputs": [],
   "source": [
    "n_pcs=[5,10,15,20]\n",
    "n_neighbors=[5,10,15,20]\n",
    "resolutions=[0.25,0.5,0.75,1,1.25,1.5]"
   ]
  },
  {
   "cell_type": "code",
   "execution_count": null,
   "metadata": {},
   "outputs": [],
   "source": [
    "df=find_bh(ras_adata,resolutions=resolutions,\n",
    "    n_pcs=n_pcs,\n",
    "    n_neighbors=n_neighbors)\n",
    "df"
   ]
  },
  {
   "cell_type": "code",
   "execution_count": null,
   "metadata": {},
   "outputs": [],
   "source": [
    "obj_fun=\"cluster_values_sil\"\n",
    "index=df[obj_fun].argmax()\n",
    "res,n_pc,n_neighbor=df.iloc[index][[\"res\",\"pcs_values\",\"neigh_values\"]].values\n",
    "\n",
    "df[obj_fun].max()"
   ]
  },
  {
   "cell_type": "markdown",
   "metadata": {},
   "source": [
    "Which are the best found hyper-parameters?"
   ]
  },
  {
   "cell_type": "code",
   "execution_count": null,
   "metadata": {},
   "outputs": [],
   "source": [
    "res,n_pc,n_neighbor"
   ]
  },
  {
   "cell_type": "code",
   "execution_count": null,
   "metadata": {
    "scrolled": true
   },
   "outputs": [],
   "source": [
    "sc.pp.neighbors(ras_adata, n_neighbors=int(n_neighbor), n_pcs=int(n_pc))\n",
    "sc.tl.leiden(ras_adata,resolution=res)\n",
    "sc.tl.umap(ras_adata)"
   ]
  },
  {
   "cell_type": "code",
   "execution_count": null,
   "metadata": {},
   "outputs": [],
   "source": [
    "sc.pl.umap(ras_adata, color=['leiden'],\n",
    "                    palette={\"0\":\"yellow\",\"1\":\"green\",\"2\":\"pink\"})"
   ]
  },
  {
   "cell_type": "code",
   "execution_count": null,
   "metadata": {},
   "outputs": [],
   "source": [
    "sc.pl.umap(ras_adata, color=['countmatrix_Sample Characteristic[disease]'],\n",
    "                     palette={\"normal\":\"purple\",\"idiopathic pulmonary fibrosis\":\"orange\"})"
   ]
  },
  {
   "cell_type": "markdown",
   "metadata": {},
   "source": [
    "## Finding marker reactions and color the MAP"
   ]
  },
  {
   "cell_type": "markdown",
   "metadata": {},
   "source": [
    "We estabilished that two groups of cells (normal vs IPF) are well separated. Now, we want to find the highly differential reactions in each groups and colour the metabolic differences on a map."
   ]
  },
  {
   "cell_type": "markdown",
   "metadata": {},
   "source": [
    "Reload RAS matrix without reaction count scaling"
   ]
  },
  {
   "cell_type": "code",
   "execution_count": null,
   "metadata": {},
   "outputs": [],
   "source": [
    "ras_adata2=ras_adata.raw.to_adata()"
   ]
  },
  {
   "cell_type": "markdown",
   "metadata": {},
   "source": [
    "Total-count normalization"
   ]
  },
  {
   "cell_type": "code",
   "execution_count": null,
   "metadata": {},
   "outputs": [],
   "source": [
    "sc.pp.normalize_total(ras_adata2, target_sum=1e4)"
   ]
  },
  {
   "cell_type": "markdown",
   "metadata": {},
   "source": [
    "Logarithmize the data"
   ]
  },
  {
   "cell_type": "code",
   "execution_count": null,
   "metadata": {},
   "outputs": [],
   "source": [
    "sc.pp.log1p(ras_adata2)"
   ]
  },
  {
   "cell_type": "markdown",
   "metadata": {},
   "source": [
    "Compare the RAS of the two groups \"normal\" vs \"IPF\""
   ]
  },
  {
   "cell_type": "code",
   "execution_count": null,
   "metadata": {},
   "outputs": [],
   "source": [
    "name_feature='countmatrix_Sample Characteristic[disease]'"
   ]
  },
  {
   "cell_type": "markdown",
   "metadata": {},
   "source": [
    "Let us compute a ranking for the highly differential RAS in each dataset."
   ]
  },
  {
   "cell_type": "code",
   "execution_count": null,
   "metadata": {},
   "outputs": [],
   "source": [
    "from ras import computeRAS_diff\n",
    "import numpy as np\n",
    "df_comparison=computeRAS_diff(ras_adata2,name_feature)\n",
    "df_comparison"
   ]
  },
  {
   "cell_type": "markdown",
   "metadata": {},
   "source": [
    "Suppose now that you have a map (in svg format) of the metabolic network (or a part of it).  You can plot the metabolic difference of these two groups and save in a new map"
   ]
  },
  {
   "cell_type": "code",
   "execution_count": null,
   "metadata": {},
   "outputs": [],
   "source": [
    "mapNetwork=\"metabolic_maps/Glycolisis_TCA_PPP.svg\"    #name of the SVF file (Escher format) of the metabolic map"
   ]
  },
  {
   "cell_type": "code",
   "execution_count": null,
   "metadata": {},
   "outputs": [],
   "source": [
    "mapNetwork2=\"metabolic_maps/Glycolisis_TCA_PPP_colured.svg\" #name of output SVG file with coloured map"
   ]
  },
  {
   "cell_type": "code",
   "execution_count": null,
   "metadata": {},
   "outputs": [],
   "source": [
    "from ras import RAS_map\n",
    "import numpy as np\n",
    "mappa=RAS_map()\n",
    "image=mappa.colorMap(mapNetwork,\n",
    "                     mapNetwork2,\n",
    "                     df_comparison,\n",
    "                     colors=[\"blue\",\"red\"],         #the first color is for down-regulated reactio,the second for up-regulated\n",
    "                     nosignificant_color=\"grey\",    #color of reaction whose differences results not significant\n",
    "                     width_image=1800               #dimension of the SVG image\n",
    "                    )"
   ]
  },
  {
   "cell_type": "code",
   "execution_count": null,
   "metadata": {},
   "outputs": [],
   "source": [
    "image"
   ]
  },
  {
   "cell_type": "code",
   "execution_count": null,
   "metadata": {},
   "outputs": [],
   "source": []
  }
 ],
 "metadata": {
  "kernelspec": {
   "display_name": "Python 3",
   "language": "python",
   "name": "python3"
  },
  "language_info": {
   "codemirror_mode": {
    "name": "ipython",
    "version": 3
   },
   "file_extension": ".py",
   "mimetype": "text/x-python",
   "name": "python",
   "nbconvert_exporter": "python",
   "pygments_lexer": "ipython3",
   "version": "3.8.10"
  }
 },
 "nbformat": 4,
 "nbformat_minor": 4
}

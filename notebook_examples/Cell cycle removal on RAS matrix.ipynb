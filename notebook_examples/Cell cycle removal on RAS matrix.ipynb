{
 "cells": [
  {
   "cell_type": "markdown",
   "metadata": {},
   "source": [
    "Welcome! This is a tutorial about RASpy (Reaction Activity Scores in Python). \n",
    "In this notebook, we will show how to remove the cell-cycle effect on the RAS matrix. "
   ]
  },
  {
   "cell_type": "markdown",
   "metadata": {},
   "source": [
    "Note that cell cycle removal cannot\n",
    "be applied on the count matrix before RAS computation. \n",
    "Indeed, the introduction of possible negative values in the count matrix would make\n",
    "it meaningless to evaluate, e.g., an OR operator using the sum operation.\n",
    "For these reasons, RASpy allows one to apply such operations directly on\n",
    "RAS matrix."
   ]
  },
  {
   "cell_type": "markdown",
   "id": "59e76c85",
   "metadata": {},
   "source": [
    "## Load the data"
   ]
  },
  {
   "cell_type": "markdown",
   "id": "7fdcc77c",
   "metadata": {},
   "source": [
    "Load the count matrix (h5ad format). Such a dataset are reported as TPM and was downloaded from the  GEO database Atlas (https://www.ncbi.nlm.nih.gov/geo/query/acc.cgi?acc=GSE110949). "
   ]
  },
  {
   "cell_type": "code",
   "execution_count": null,
   "id": "86868cfb",
   "metadata": {},
   "outputs": [],
   "source": [
    "import scanpy as sc\n",
    "adata=sc.read_h5ad(\"../datasets/GSE110949_raw_adata\")\n",
    "adata"
   ]
  },
  {
   "cell_type": "markdown",
   "id": "6fae5afd",
   "metadata": {},
   "source": [
    "Load the metabolic model"
   ]
  },
  {
   "cell_type": "code",
   "execution_count": null,
   "id": "0234a0c9",
   "metadata": {},
   "outputs": [],
   "source": [
    "from cobra.io import read_sbml_model\n",
    "model=read_sbml_model('../metabolic_models/RECON3_symbol.xml')\n",
    "model"
   ]
  },
  {
   "cell_type": "markdown",
   "id": "ab2f0bb1",
   "metadata": {},
   "source": [
    "## Processing on the count data"
   ]
  },
  {
   "cell_type": "markdown",
   "id": "d13fb37a",
   "metadata": {},
   "source": [
    "Annotate all the mithocondrial genes"
   ]
  },
  {
   "cell_type": "code",
   "execution_count": null,
   "id": "5bfd294a",
   "metadata": {},
   "outputs": [],
   "source": [
    "#in case of gene-symbol annotation for genes\n",
    "adata.var['mt'] =adata.var_names.str.startswith('MT-')   "
   ]
  },
  {
   "cell_type": "markdown",
   "id": "f3216869",
   "metadata": {},
   "source": [
    "Compute quality metrics"
   ]
  },
  {
   "cell_type": "code",
   "execution_count": null,
   "id": "93b2298d",
   "metadata": {},
   "outputs": [],
   "source": [
    "sc.pp.calculate_qc_metrics(adata, qc_vars=['mt'], percent_top=None, log1p=False, inplace=True)"
   ]
  },
  {
   "cell_type": "markdown",
   "id": "d491ddc2",
   "metadata": {},
   "source": [
    "Basic filtering: \n",
    "- exclude low-quality cells with fewer expressed (!=0) genes \n",
    "- exclude all genes that were not detected in at least three cells\n",
    "- exclude cells with too many mitochondrial genes expressed\n",
    "- exclude cells with too many total counts\n"
   ]
  },
  {
   "cell_type": "code",
   "execution_count": null,
   "id": "0ad4f732",
   "metadata": {},
   "outputs": [],
   "source": [
    "sc.pp.filter_cells(adata, min_genes=2000)\n",
    "sc.pp.filter_genes(adata, min_cells=3)\n",
    "\n",
    "adata =adata[adata.obs.total_counts <= 15000, :]  \n",
    "adata = adata[adata.obs.pct_counts_mt < 10, :]  \n",
    "\n",
    "adata"
   ]
  },
  {
   "cell_type": "code",
   "execution_count": null,
   "metadata": {},
   "outputs": [],
   "source": [
    "sc.pp.normalize_per_cell(adata, counts_per_cell_after=1e4)"
   ]
  },
  {
   "cell_type": "markdown",
   "id": "cb5a2208",
   "metadata": {},
   "source": [
    "## Annotate cell cycle"
   ]
  },
  {
   "cell_type": "markdown",
   "id": "7d0d9ccf",
   "metadata": {},
   "source": [
    "Suppose that you want to annotate the cell cycle of each cell to be removed during the clustering of RAS (see notebook \"RAS cluster analysis\")"
   ]
  },
  {
   "cell_type": "code",
   "execution_count": null,
   "id": "c6559d92",
   "metadata": {},
   "outputs": [],
   "source": [
    "adata_for_cellcycle=adata.copy()"
   ]
  },
  {
   "cell_type": "markdown",
   "id": "922ecc58",
   "metadata": {},
   "source": [
    "Applying of Normalization, Log-transformation and scaling to prepare data for cell cycle scoring"
   ]
  },
  {
   "cell_type": "code",
   "execution_count": null,
   "id": "248c1fad",
   "metadata": {},
   "outputs": [],
   "source": [
    "sc.pp.log1p(adata_for_cellcycle)\n",
    "sc.pp.scale(adata_for_cellcycle)"
   ]
  },
  {
   "cell_type": "markdown",
   "id": "d04fdeb4",
   "metadata": {},
   "source": [
    "Load cell cycle genes defined in Tirosh et al, 2015. It is a list of 97 genes, represented by their gene symbol. The list here is for humans."
   ]
  },
  {
   "cell_type": "code",
   "execution_count": null,
   "id": "8f82fdda",
   "metadata": {},
   "outputs": [],
   "source": [
    "#in case of gene-symbol annotation for genes\n",
    "cell_cycle_genes = [x.strip() for x in open('../utils_files/regev_lab_cell_cycle_genes_symbol.txt')]\n",
    "s_genes = cell_cycle_genes[:43]\n",
    "g2m_genes = cell_cycle_genes[43:]"
   ]
  },
  {
   "cell_type": "code",
   "execution_count": null,
   "id": "3cccf058",
   "metadata": {},
   "outputs": [],
   "source": [
    "#in case of ENSG annotation for genes\n",
    "#cell_cycle_genes = [x.strip() for x in open('../utils_files/regev_lab_cell_cycle_genes_ensg.txt')]\n",
    "#s_genes = cell_cycle_genes[:42]\n",
    "#g2m_genes = cell_cycle_genes[42:]"
   ]
  },
  {
   "cell_type": "markdown",
   "id": "cafb4f55",
   "metadata": {},
   "source": [
    "Filter out genes not in the data"
   ]
  },
  {
   "cell_type": "code",
   "execution_count": null,
   "id": "69359e63",
   "metadata": {},
   "outputs": [],
   "source": [
    "s_genes = [x for x in s_genes if x in adata.var_names]\n",
    "g2m_genes =[x for x in g2m_genes if x in adata.var_names]"
   ]
  },
  {
   "cell_type": "markdown",
   "id": "7a37a17e",
   "metadata": {},
   "source": [
    "Perform cell cycle scoring"
   ]
  },
  {
   "cell_type": "code",
   "execution_count": null,
   "id": "294e2d7a",
   "metadata": {},
   "outputs": [],
   "source": [
    "sc.tl.score_genes_cell_cycle(adata_for_cellcycle, s_genes=s_genes, g2m_genes=g2m_genes)"
   ]
  },
  {
   "cell_type": "code",
   "execution_count": null,
   "id": "fa1ca3f3",
   "metadata": {
    "scrolled": true
   },
   "outputs": [],
   "source": [
    "adata_for_cellcycle"
   ]
  },
  {
   "cell_type": "markdown",
   "metadata": {},
   "source": [
    "## Effect of cell cycle on the RAS matrix"
   ]
  },
  {
   "cell_type": "markdown",
   "id": "02a10e8e",
   "metadata": {},
   "source": [
    "Reduce the dimensionality of the data by running principal component analysis (PCA)"
   ]
  },
  {
   "cell_type": "code",
   "execution_count": null,
   "id": "1d4d2102",
   "metadata": {},
   "outputs": [],
   "source": [
    "sc.tl.pca(adata_for_cellcycle, svd_solver='arpack')"
   ]
  },
  {
   "cell_type": "markdown",
   "id": "c7288ed3",
   "metadata": {},
   "source": [
    "Make a scatter plot in the PCA coordinates, showing some differences"
   ]
  },
  {
   "cell_type": "code",
   "execution_count": null,
   "id": "e7e33fdf",
   "metadata": {},
   "outputs": [],
   "source": [
    "sc.pl.pca(adata_for_cellcycle, color=['phase'])"
   ]
  },
  {
   "cell_type": "markdown",
   "id": "a1f739f7",
   "metadata": {},
   "source": [
    "Save the information about the cell cycle on the original adata count matrix "
   ]
  },
  {
   "cell_type": "code",
   "execution_count": null,
   "id": "f27d1aab",
   "metadata": {},
   "outputs": [],
   "source": [
    "adata.obs['phase']=adata_for_cellcycle.obs['phase']\n",
    "adata.obs['S_score']=adata_for_cellcycle.obs['S_score']\n",
    "adata.obs['G2M_score']=adata_for_cellcycle.obs['G2M_score']"
   ]
  },
  {
   "cell_type": "markdown",
   "metadata": {},
   "source": [
    "## RAS computation"
   ]
  },
  {
   "cell_type": "code",
   "execution_count": null,
   "id": "cd1b94ac",
   "metadata": {},
   "outputs": [],
   "source": [
    "import sys\n",
    "sys.path.insert(1, '../raspy/')"
   ]
  },
  {
   "cell_type": "code",
   "execution_count": null,
   "id": "f6589d73",
   "metadata": {},
   "outputs": [],
   "source": [
    "from ras import RAS_computation as rc"
   ]
  },
  {
   "cell_type": "code",
   "execution_count": null,
   "id": "b859ec14",
   "metadata": {},
   "outputs": [],
   "source": [
    "ras_object=rc(adata,model)"
   ]
  },
  {
   "cell_type": "code",
   "execution_count": null,
   "id": "98516a1f",
   "metadata": {},
   "outputs": [],
   "source": [
    "import numpy as np\n",
    "import time\n",
    "t0= time.time()\n",
    "ras_adata=ras_object.compute()\n",
    "t1 = time.time()-t0\n",
    "print(\"Time elapsed: \", t1) # CPU seconds elapsed (floating point)"
   ]
  },
  {
   "cell_type": "markdown",
   "metadata": {},
   "source": [
    "Note that the information about the phase are saved as \"countmatrix_phase\" in the ras_adata structure"
   ]
  },
  {
   "cell_type": "code",
   "execution_count": null,
   "metadata": {},
   "outputs": [],
   "source": [
    "ras_adata.obs[[\"countmatrix_S_score\",\"countmatrix_G2M_score\"]]"
   ]
  },
  {
   "cell_type": "markdown",
   "id": "db8c1ebb",
   "metadata": {},
   "source": [
    "## Pre-processing of the RAS matrix"
   ]
  },
  {
   "cell_type": "markdown",
   "id": "28d5451a",
   "metadata": {},
   "source": [
    "Drop duplicates reaction (for example, toe reaction having the same GPR"
   ]
  },
  {
   "cell_type": "code",
   "execution_count": null,
   "id": "98c96732",
   "metadata": {},
   "outputs": [],
   "source": [
    "reactions=list(ras_adata.to_df().T.drop_duplicates().index)\n",
    "ras_adata=ras_adata[:,reactions]\n",
    "ras_adata"
   ]
  },
  {
   "cell_type": "markdown",
   "id": "5e0c6d74",
   "metadata": {},
   "source": [
    "Total-count normalization"
   ]
  },
  {
   "cell_type": "code",
   "execution_count": null,
   "id": "e9fd98d7",
   "metadata": {},
   "outputs": [],
   "source": [
    "sc.pp.normalize_total(ras_adata, target_sum=1e4)"
   ]
  },
  {
   "cell_type": "markdown",
   "id": "84eba086",
   "metadata": {},
   "source": [
    "Logarithmize the data"
   ]
  },
  {
   "cell_type": "code",
   "execution_count": null,
   "id": "77230755",
   "metadata": {},
   "outputs": [],
   "source": [
    "sc.pp.log1p(ras_adata)"
   ]
  },
  {
   "cell_type": "markdown",
   "id": "a0b2e5b3",
   "metadata": {},
   "source": [
    "Scale each reaction score to unit variance. Clip values exceeding standard deviation 10."
   ]
  },
  {
   "cell_type": "code",
   "execution_count": null,
   "id": "0f12ff88",
   "metadata": {},
   "outputs": [],
   "source": [
    "sc.pp.scale(ras_adata)"
   ]
  },
  {
   "cell_type": "markdown",
   "metadata": {},
   "source": [
    "## Effect of cell cycle on the RAS matrix"
   ]
  },
  {
   "cell_type": "markdown",
   "id": "02a10e8e",
   "metadata": {},
   "source": [
    "Reduce the dimensionality of the data by running principal component analysis (PCA)"
   ]
  },
  {
   "cell_type": "code",
   "execution_count": null,
   "id": "1d4d2102",
   "metadata": {},
   "outputs": [],
   "source": [
    "sc.tl.pca(ras_adata, svd_solver='arpack')"
   ]
  },
  {
   "cell_type": "markdown",
   "id": "c7288ed3",
   "metadata": {},
   "source": [
    "Make a scatter plot in the PCA coordinates, showing some differences"
   ]
  },
  {
   "cell_type": "code",
   "execution_count": null,
   "id": "e7e33fdf",
   "metadata": {},
   "outputs": [],
   "source": [
    "sc.pl.pca(ras_adata, color=['countmatrix_phase'])"
   ]
  },
  {
   "cell_type": "markdown",
   "id": "ddacc007",
   "metadata": {},
   "source": [
    "Remove cell cycle effect (computed on the count matrix,see Notebook \"Pre-processing of the count matrix\")"
   ]
  },
  {
   "cell_type": "code",
   "execution_count": null,
   "id": "9559037a",
   "metadata": {},
   "outputs": [],
   "source": [
    "sc.pp.regress_out(ras_adata, keys=['countmatrix_S_score','countmatrix_G2M_score'])\n",
    "sc.pp.scale(ras_adata)"
   ]
  },
  {
   "cell_type": "markdown",
   "metadata": {},
   "source": [
    "Reduce the dimensionality of the data by running principal component analysis (PCA)"
   ]
  },
  {
   "cell_type": "code",
   "execution_count": null,
   "metadata": {},
   "outputs": [],
   "source": [
    "sc.tl.pca(ras_adata, svd_solver='arpack')"
   ]
  },
  {
   "cell_type": "markdown",
   "metadata": {},
   "source": [
    "Make a scatter plot in the PCA coordinates, showing some differences after cell-cycle effect removal"
   ]
  },
  {
   "cell_type": "code",
   "execution_count": null,
   "metadata": {},
   "outputs": [],
   "source": [
    "sc.tl.pca(ras_adata, svd_solver='arpack')\n",
    "sc.pl.pca(ras_adata, color=['countmatrix_phase'])"
   ]
  }
 ],
 "metadata": {
  "kernelspec": {
   "display_name": "Python 3",
   "language": "python",
   "name": "python3"
  },
  "language_info": {
   "codemirror_mode": {
    "name": "ipython",
    "version": 3
   },
   "file_extension": ".py",
   "mimetype": "text/x-python",
   "name": "python",
   "nbconvert_exporter": "python",
   "pygments_lexer": "ipython3",
   "version": "3.8.10"
  }
 },
 "nbformat": 4,
 "nbformat_minor": 4
}

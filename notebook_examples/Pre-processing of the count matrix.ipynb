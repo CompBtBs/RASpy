{
 "cells": [
  {
   "cell_type": "markdown",
   "metadata": {},
   "source": [
    "Welcome! This is a tutorial about RASpy (Reaction Activity Scores in Python). \n",
    "In this notebook, we will show how to pre-process a raw count matrix before RAS computation."
   ]
  },
  {
   "cell_type": "markdown",
   "id": "59e76c85",
   "metadata": {},
   "source": [
    "## Load the data"
   ]
  },
  {
   "cell_type": "markdown",
   "id": "7fdcc77c",
   "metadata": {},
   "source": [
    "Load the count matrix (h5ad format). Such a dataset are reported as TPM and was downloaded from the  GEO database Atlas (https://www.ncbi.nlm.nih.gov/geo/query/acc.cgi?acc=GSE110949). "
   ]
  },
  {
   "cell_type": "code",
   "execution_count": null,
   "id": "86868cfb",
   "metadata": {},
   "outputs": [],
   "source": [
    "import scanpy as sc\n",
    "adata=sc.read_h5ad(\"../datasets/GSE110949_raw_adata\")\n",
    "adata"
   ]
  },
  {
   "cell_type": "markdown",
   "id": "ab2f0bb1",
   "metadata": {},
   "source": [
    "## Processing on the count data"
   ]
  },
  {
   "cell_type": "markdown",
   "id": "d13fb37a",
   "metadata": {},
   "source": [
    "Annotate all the mithocondrial genes"
   ]
  },
  {
   "cell_type": "code",
   "execution_count": null,
   "id": "5bfd294a",
   "metadata": {},
   "outputs": [],
   "source": [
    "#in case of gene-symbol annotation for genes\n",
    "adata.var['mt'] =adata.var_names.str.startswith('MT-')   "
   ]
  },
  {
   "cell_type": "code",
   "execution_count": null,
   "id": "0ea6c8f6",
   "metadata": {},
   "outputs": [],
   "source": [
    "#in case of ENSG annotation for genes\n",
    "#import pandas as pd\n",
    "#mito_ensembl_ids=pd.read_csv(\"../utils_files/mitocondrial_genes.csv\",index_col=0)\n",
    "#mito_genes=mito_ensembl_ids['ensembl_gene_id'].values\n",
    "#adata.var['mt'] = [True if name in mito_genes else False for name in adata.var_names]"
   ]
  },
  {
   "cell_type": "markdown",
   "id": "f3216869",
   "metadata": {},
   "source": [
    "Compute quality metrics"
   ]
  },
  {
   "cell_type": "code",
   "execution_count": null,
   "id": "93b2298d",
   "metadata": {},
   "outputs": [],
   "source": [
    "sc.pp.calculate_qc_metrics(adata, qc_vars=['mt'], percent_top=None, log1p=False, inplace=True)"
   ]
  },
  {
   "cell_type": "markdown",
   "id": "6ec0edf7",
   "metadata": {},
   "source": [
    "Visualize some of the computed quality measures with violin plots"
   ]
  },
  {
   "cell_type": "code",
   "execution_count": null,
   "id": "dfaa0847",
   "metadata": {},
   "outputs": [],
   "source": [
    "sc.pl.violin(adata, ['n_genes_by_counts', 'total_counts','pct_counts_mt'],jitter=0.4, multi_panel=True)"
   ]
  },
  {
   "cell_type": "markdown",
   "id": "d491ddc2",
   "metadata": {},
   "source": [
    "Basic filtering: \n",
    "- exclude low-quality cells with fewer expressed (!=0) genes \n",
    "- exclude all genes that were not detected in at least three cells\n",
    "- exclude cells with too many mitochondrial genes expressed\n",
    "- exclude cells with too many total counts\n"
   ]
  },
  {
   "cell_type": "code",
   "execution_count": null,
   "id": "0ad4f732",
   "metadata": {},
   "outputs": [],
   "source": [
    "sc.pp.filter_cells(adata, min_genes=2000)\n",
    "sc.pp.filter_genes(adata, min_cells=3)\n",
    "\n",
    "adata =adata[adata.obs.total_counts <= 15000, :]  \n",
    "adata = adata[adata.obs.pct_counts_mt < 10, :]  \n",
    "\n",
    "adata"
   ]
  },
  {
   "cell_type": "code",
   "execution_count": null,
   "id": "c235eb95",
   "metadata": {},
   "outputs": [],
   "source": [
    "sc.pp.calculate_qc_metrics(adata, qc_vars=['mt'], percent_top=None, log1p=False, inplace=True)\n",
    "sc.pl.violin(adata, ['n_genes_by_counts', 'total_counts', 'pct_counts_mt'],\n",
    "             jitter=0.4, multi_panel=True)"
   ]
  },
  {
   "cell_type": "markdown",
   "id": "cb5a2208",
   "metadata": {},
   "source": [
    "## Annotate cell cycle"
   ]
  },
  {
   "cell_type": "markdown",
   "id": "7d0d9ccf",
   "metadata": {},
   "source": [
    "Suppose that you want to annotate the cell cycle of each cell to be removed during the clustering of RAS (see notebook \"RAS cluster analysis\")"
   ]
  },
  {
   "cell_type": "code",
   "execution_count": null,
   "id": "c6559d92",
   "metadata": {},
   "outputs": [],
   "source": [
    "adata_for_cellcycle=adata.copy()"
   ]
  },
  {
   "cell_type": "markdown",
   "id": "922ecc58",
   "metadata": {},
   "source": [
    "Applying of Normalization, Log-transformation and scaling to prepare data for cell cycle scoring"
   ]
  },
  {
   "cell_type": "code",
   "execution_count": null,
   "id": "248c1fad",
   "metadata": {},
   "outputs": [],
   "source": [
    "#sc.pp.normalize_per_cell(adata_for_cellcycle, counts_per_cell_after=1e4)\n",
    "sc.pp.log1p(adata_for_cellcycle)\n",
    "sc.pp.scale(adata_for_cellcycle)"
   ]
  },
  {
   "cell_type": "markdown",
   "id": "d04fdeb4",
   "metadata": {},
   "source": [
    "Load cell cycle genes defined in Tirosh et al, 2015. It is a list of 97 genes, represented by their gene symbol. The list here is for humans."
   ]
  },
  {
   "cell_type": "code",
   "execution_count": null,
   "id": "8f82fdda",
   "metadata": {},
   "outputs": [],
   "source": [
    "#in case of gene-symbol annotation for genes\n",
    "cell_cycle_genes = [x.strip() for x in open('../utils_files/regev_lab_cell_cycle_genes_symbol.txt')]\n",
    "s_genes = cell_cycle_genes[:43]\n",
    "g2m_genes = cell_cycle_genes[43:]"
   ]
  },
  {
   "cell_type": "code",
   "execution_count": null,
   "id": "3cccf058",
   "metadata": {},
   "outputs": [],
   "source": [
    "#in case of ENSG annotation for genes\n",
    "#cell_cycle_genes = [x.strip() for x in open('../utils_files/regev_lab_cell_cycle_genes_ensg.txt')]\n",
    "#s_genes = cell_cycle_genes[:42]\n",
    "#g2m_genes = cell_cycle_genes[42:]"
   ]
  },
  {
   "cell_type": "markdown",
   "id": "cafb4f55",
   "metadata": {},
   "source": [
    "Filter out genes not in the data"
   ]
  },
  {
   "cell_type": "code",
   "execution_count": null,
   "id": "69359e63",
   "metadata": {},
   "outputs": [],
   "source": [
    "s_genes = [x for x in s_genes if x in adata.var_names]\n",
    "g2m_genes =[x for x in g2m_genes if x in adata.var_names]"
   ]
  },
  {
   "cell_type": "markdown",
   "id": "7a37a17e",
   "metadata": {},
   "source": [
    "Perform cell cycle scoring"
   ]
  },
  {
   "cell_type": "code",
   "execution_count": null,
   "id": "294e2d7a",
   "metadata": {},
   "outputs": [],
   "source": [
    "sc.tl.score_genes_cell_cycle(adata_for_cellcycle, s_genes=s_genes, g2m_genes=g2m_genes)"
   ]
  },
  {
   "cell_type": "code",
   "execution_count": null,
   "id": "fa1ca3f3",
   "metadata": {},
   "outputs": [],
   "source": [
    "adata_for_cellcycle"
   ]
  },
  {
   "cell_type": "markdown",
   "id": "a1f739f7",
   "metadata": {},
   "source": [
    "Save the information about the cell cycle on the original adata count matrix "
   ]
  },
  {
   "cell_type": "code",
   "execution_count": null,
   "id": "f27d1aab",
   "metadata": {},
   "outputs": [],
   "source": [
    "adata.obs['phase']=adata_for_cellcycle.obs['phase']\n",
    "adata.obs['S_score']=adata_for_cellcycle.obs['S_score']\n",
    "adata.obs['G2M_score']=adata_for_cellcycle.obs['G2M_score']"
   ]
  },
  {
   "cell_type": "markdown",
   "id": "4ac1daa1",
   "metadata": {},
   "source": [
    "## Save the count matrix"
   ]
  },
  {
   "cell_type": "code",
   "execution_count": null,
   "id": "b8df6040",
   "metadata": {},
   "outputs": [],
   "source": [
    "from scipy.sparse import csr_matrix\n",
    "adata.X = csr_matrix(adata.X)"
   ]
  },
  {
   "cell_type": "markdown",
   "id": "026e3e90",
   "metadata": {},
   "source": [
    "Save the count matrix preprocessed for RAS computation"
   ]
  },
  {
   "cell_type": "code",
   "execution_count": null,
   "id": "57733cc2",
   "metadata": {},
   "outputs": [],
   "source": [
    "adata.write(\"../datasets/GSE110949_gene_adata\")\n",
    "adata"
   ]
  }
 ],
 "metadata": {
  "kernelspec": {
   "display_name": "Python 3",
   "language": "python",
   "name": "python3"
  },
  "language_info": {
   "codemirror_mode": {
    "name": "ipython",
    "version": 3
   },
   "file_extension": ".py",
   "mimetype": "text/x-python",
   "name": "python",
   "nbconvert_exporter": "python",
   "pygments_lexer": "ipython3",
   "version": "3.8.10"
  }
 },
 "nbformat": 4,
 "nbformat_minor": 5
}

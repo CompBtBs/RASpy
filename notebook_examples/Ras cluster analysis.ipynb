{
 "cells": [
  {
   "cell_type": "markdown",
   "metadata": {},
   "source": [
    "Welcome! This is a tutorial about RASpy (Reaction Activity Scores in Python). \n",
    "In this notebook, we will show how to perform cluster analysis on the RAS matrix using the Scanpy toolkits."
   ]
  },
  {
   "cell_type": "code",
   "execution_count": null,
   "id": "eb86f2ef",
   "metadata": {},
   "outputs": [],
   "source": [
    "import sys\n",
    "sys.path.insert(1, '../raspy/')"
   ]
  },
  {
   "cell_type": "markdown",
   "id": "59e76c85",
   "metadata": {},
   "source": [
    "## Load the data"
   ]
  },
  {
   "cell_type": "markdown",
   "id": "7fdcc77c",
   "metadata": {},
   "source": [
    "Load the ras matrix (h5ad format), previously compute on notebook \"Ras computation\""
   ]
  },
  {
   "cell_type": "code",
   "execution_count": null,
   "id": "86868cfb",
   "metadata": {},
   "outputs": [],
   "source": [
    "import scanpy as sc\n",
    "ras_adata=sc.read_h5ad(\"../datasets/E-GEOD-86618_ras_adata\")\n",
    "ras_adata"
   ]
  },
  {
   "cell_type": "markdown",
   "id": "db8c1ebb",
   "metadata": {},
   "source": [
    "## Pre-processing of the RAS matrix"
   ]
  },
  {
   "cell_type": "markdown",
   "id": "28d5451a",
   "metadata": {},
   "source": [
    "Drop duplicates reaction (for example, toe reaction having the same GPR"
   ]
  },
  {
   "cell_type": "code",
   "execution_count": null,
   "id": "98c96732",
   "metadata": {},
   "outputs": [],
   "source": [
    "reactions=list(ras_adata.to_df().T.drop_duplicates().index)\n",
    "ras_adata=ras_adata[:,reactions]\n",
    "ras_adata"
   ]
  },
  {
   "cell_type": "markdown",
   "metadata": {},
   "source": [
    "Normalize the data"
   ]
  },
  {
   "cell_type": "code",
   "execution_count": null,
   "metadata": {},
   "outputs": [],
   "source": [
    "sc.pp.normalize_total(ras_adata, target_sum=1e4)"
   ]
  },
  {
   "cell_type": "markdown",
   "id": "84eba086",
   "metadata": {},
   "source": [
    "Logarithmize the data"
   ]
  },
  {
   "cell_type": "code",
   "execution_count": null,
   "id": "77230755",
   "metadata": {},
   "outputs": [],
   "source": [
    "sc.pp.log1p(ras_adata)"
   ]
  },
  {
   "cell_type": "markdown",
   "id": "442934bd",
   "metadata": {},
   "source": [
    "Set the .raw attribute of the AnnData object to the normalized and logarithmized raw gene expression for later use "
   ]
  },
  {
   "cell_type": "code",
   "execution_count": null,
   "id": "57626d32",
   "metadata": {},
   "outputs": [],
   "source": [
    "ras_adata.raw = ras_adata"
   ]
  },
  {
   "cell_type": "markdown",
   "id": "a0b2e5b3",
   "metadata": {},
   "source": [
    "Scale each reaction score to unit variance. Clip values exceeding standard deviation 10."
   ]
  },
  {
   "cell_type": "code",
   "execution_count": null,
   "id": "0f12ff88",
   "metadata": {},
   "outputs": [],
   "source": [
    "sc.pp.scale(ras_adata, max_value=10)"
   ]
  },
  {
   "cell_type": "markdown",
   "id": "d9151d8b",
   "metadata": {},
   "source": [
    "## Principal component analysis"
   ]
  },
  {
   "cell_type": "markdown",
   "id": "02a10e8e",
   "metadata": {},
   "source": [
    "Reduce the dimensionality of the data by running principal component analysis (PCA)"
   ]
  },
  {
   "cell_type": "code",
   "execution_count": null,
   "id": "1d4d2102",
   "metadata": {},
   "outputs": [],
   "source": [
    "sc.tl.pca(ras_adata, svd_solver='arpack')"
   ]
  },
  {
   "cell_type": "markdown",
   "id": "c7288ed3",
   "metadata": {},
   "source": [
    "Make a scatter plot in the PCA coordinates, showing some differences"
   ]
  },
  {
   "cell_type": "code",
   "execution_count": null,
   "id": "e7e33fdf",
   "metadata": {},
   "outputs": [],
   "source": [
    "from matplotlib.colors import ListedColormap\n",
    "sc.pl.pca(ras_adata, color=['countmatrix_Factor Value[disease]'])"
   ]
  },
  {
   "cell_type": "markdown",
   "id": "b738b438",
   "metadata": {},
   "source": [
    "Let us inspect the contribution of single PCs to the total variance in the data. "
   ]
  },
  {
   "cell_type": "code",
   "execution_count": null,
   "id": "17284bfb",
   "metadata": {},
   "outputs": [],
   "source": [
    "sc.pl.pca_variance_ratio(ras_adata, log=True)"
   ]
  },
  {
   "cell_type": "markdown",
   "id": "f5ca297d",
   "metadata": {},
   "source": [
    "## Compute the clustering (default cluster parameters)"
   ]
  },
  {
   "cell_type": "markdown",
   "id": "b3f91e58",
   "metadata": {},
   "source": [
    "Let us compute the neighborhood graph of cells using the PCA representation of the data matrix. "
   ]
  },
  {
   "cell_type": "code",
   "execution_count": null,
   "id": "1c97ea40",
   "metadata": {},
   "outputs": [],
   "source": [
    "sc.pp.neighbors(ras_adata)"
   ]
  },
  {
   "cell_type": "markdown",
   "id": "9e0c77cb",
   "metadata": {},
   "source": [
    "Cluster the cells using the Leiden algorithm"
   ]
  },
  {
   "cell_type": "code",
   "execution_count": null,
   "id": "dd64e2a9",
   "metadata": {},
   "outputs": [],
   "source": [
    "sc.tl.leiden(ras_adata)"
   ]
  },
  {
   "cell_type": "markdown",
   "id": "918711b7",
   "metadata": {},
   "source": [
    "Embed the graph in two dimensions using UMAP"
   ]
  },
  {
   "cell_type": "code",
   "execution_count": null,
   "id": "b477c477",
   "metadata": {},
   "outputs": [],
   "source": [
    "sc.tl.umap(ras_adata)\n",
    "sc.pl.umap(ras_adata,  color=['leiden','countmatrix_Factor Value[disease]'])"
   ]
  },
  {
   "cell_type": "markdown",
   "id": "8b0b4424",
   "metadata": {},
   "source": [
    "## Find best clustering"
   ]
  },
  {
   "cell_type": "code",
   "execution_count": null,
   "id": "30599b17",
   "metadata": {},
   "outputs": [],
   "source": [
    "from utils import find_bh"
   ]
  },
  {
   "cell_type": "code",
   "execution_count": null,
   "id": "a6fef084",
   "metadata": {},
   "outputs": [],
   "source": [
    "resolutions=[0.25,0.5,0.75,1,1.25,1.5]\n",
    "n_pcs=[5,10,15,20]\n",
    "n_neighbors=[5,10,15,20]"
   ]
  },
  {
   "cell_type": "code",
   "execution_count": null,
   "id": "b5379137",
   "metadata": {},
   "outputs": [],
   "source": [
    "df=find_bh(ras_adata,resolutions=resolutions,\n",
    "    n_pcs=n_pcs,\n",
    "    n_neighbors=n_neighbors,\n",
    "    names_of_groud_truth=[])\n",
    "df"
   ]
  },
  {
   "cell_type": "code",
   "execution_count": null,
   "id": "2a636647",
   "metadata": {},
   "outputs": [],
   "source": [
    "obj_fun=\"cluster_values_sil\"\n",
    "index=df[obj_fun].argmax()\n",
    "res,n_pc,n_neighbor=df.iloc[index][[\"res\",\"pcs_values\",\"neigh_values\"]].values\n",
    "res,n_pc,n_neighbor\n",
    "df[obj_fun].max()"
   ]
  },
  {
   "cell_type": "code",
   "execution_count": null,
   "id": "55f5feb6",
   "metadata": {},
   "outputs": [],
   "source": [
    "sc.pp.neighbors(ras_adata, n_neighbors=int(n_neighbor), n_pcs=int(n_pc))\n",
    "sc.tl.leiden(ras_adata,resolution=res)\n",
    "sc.tl.umap(ras_adata)\n",
    "sc.pl.umap(ras_adata, color=['leiden'],\n",
    "          palette={\"0\":\"yellow\",\n",
    "                   \"1\":\"green\",\n",
    "                   \"2\":\"pink\"})\n",
    "sc.pl.umap(ras_adata, color=['countmatrix_Factor Value[disease]'],\n",
    "           palette={\"normal\":\"purple\",\n",
    "                    \"idiopathic pulmonary fibrosis\":\"orange\"})"
   ]
  },
  {
   "cell_type": "markdown",
   "id": "b0b720f8",
   "metadata": {},
   "source": [
    "## Finding marker reactions"
   ]
  },
  {
   "cell_type": "markdown",
   "id": "5ec6bf18",
   "metadata": {},
   "source": [
    "Let us compute a ranking for the highly differential RAS in each cluster."
   ]
  },
  {
   "cell_type": "code",
   "execution_count": null,
   "id": "099163a3",
   "metadata": {},
   "outputs": [],
   "source": [
    "from utils import rank_reactions_groups\n",
    "rank_reactions_groups(ras_adata, 'leiden', method='t-test')"
   ]
  },
  {
   "cell_type": "markdown",
   "id": "94d7f1ad",
   "metadata": {},
   "source": [
    "Show the 5 top ranked RAS per cluster."
   ]
  },
  {
   "cell_type": "code",
   "execution_count": null,
   "id": "944bf96d",
   "metadata": {},
   "outputs": [],
   "source": [
    "import pandas as pd\n",
    "df_markers=pd.DataFrame(ras_adata.uns['rank_genes_groups']['names']).head(5)\n",
    "df_markers"
   ]
  },
  {
   "cell_type": "markdown",
   "id": "a89e59a2",
   "metadata": {},
   "source": [
    "Convert the dataframe in a list"
   ]
  },
  {
   "cell_type": "code",
   "execution_count": null,
   "id": "407efca0",
   "metadata": {
    "scrolled": true
   },
   "outputs": [],
   "source": [
    "df_marker_list=df_markers.T.values.flatten()\n",
    "df_marker_list"
   ]
  },
  {
   "cell_type": "markdown",
   "id": "27b9522f",
   "metadata": {},
   "source": [
    "Makes a dot plot of the expression values of ras."
   ]
  },
  {
   "cell_type": "code",
   "execution_count": null,
   "id": "930adfdc",
   "metadata": {},
   "outputs": [],
   "source": [
    "sc.pl.dotplot(ras_adata, df_marker_list, groupby='leiden',\n",
    "              use_raw=False,swap_axes=True);"
   ]
  },
  {
   "cell_type": "markdown",
   "id": "1094a5ff",
   "metadata": {},
   "source": [
    "Save the results "
   ]
  },
  {
   "cell_type": "code",
   "execution_count": null,
   "id": "aceb092d",
   "metadata": {},
   "outputs": [],
   "source": [
    "ras_adata.write(\"../datasets/E-GEOD-86618ras_adata_clustering\")"
   ]
  }
 ],
 "metadata": {
  "kernelspec": {
   "display_name": "Python 3",
   "language": "python",
   "name": "python3"
  },
  "language_info": {
   "codemirror_mode": {
    "name": "ipython",
    "version": 3
   },
   "file_extension": ".py",
   "mimetype": "text/x-python",
   "name": "python",
   "nbconvert_exporter": "python",
   "pygments_lexer": "ipython3",
   "version": "3.8.10"
  }
 },
 "nbformat": 4,
 "nbformat_minor": 5
}

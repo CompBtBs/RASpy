{
 "cells": [
  {
   "cell_type": "markdown",
   "metadata": {},
   "source": [
    "Welcome! This is a tutorial about RASpy (Reaction Activity Scores in Python). \n",
    "In this notebook, we will show how to compute the RAS matrix, using a gene count matrix and a metabolic model."
   ]
  },
  {
   "cell_type": "markdown",
   "id": "59e76c85",
   "metadata": {},
   "source": [
    "## Load the data"
   ]
  },
  {
   "cell_type": "markdown",
   "id": "6fae5afd",
   "metadata": {},
   "source": [
    "Load the metabolic model"
   ]
  },
  {
   "cell_type": "code",
   "execution_count": null,
   "id": "0234a0c9",
   "metadata": {},
   "outputs": [],
   "source": [
    "from cobra.io import read_sbml_model\n",
    "model=read_sbml_model('../metabolic_models/RECON3_ensg.xml')\n",
    "model"
   ]
  },
  {
   "cell_type": "markdown",
   "id": "7fdcc77c",
   "metadata": {},
   "source": [
    "Load the count matrix (h5ad format). Such a dataset are reported as TPM and was downloaded from the  EBI Single Cell Expression Atlas (https://www.ebi.ac.uk/gxa/sc/experiments/E-GEOD-86618/downloads)"
   ]
  },
  {
   "cell_type": "code",
   "execution_count": null,
   "id": "86868cfb",
   "metadata": {},
   "outputs": [],
   "source": [
    "import scanpy as sc\n",
    "adata=sc.read_h5ad(\"../datasets/E-GEOD-86618_tpm\")\n",
    "adata"
   ]
  },
  {
   "cell_type": "markdown",
   "id": "627a826d",
   "metadata": {},
   "source": [
    "## Compute RAS values"
   ]
  },
  {
   "cell_type": "code",
   "execution_count": null,
   "id": "cd1b94ac",
   "metadata": {},
   "outputs": [],
   "source": [
    "import sys\n",
    "sys.path.insert(1, '../raspy/')"
   ]
  },
  {
   "cell_type": "code",
   "execution_count": null,
   "id": "f6589d73",
   "metadata": {},
   "outputs": [],
   "source": [
    "from ras import RAS_computation as rc"
   ]
  },
  {
   "cell_type": "code",
   "execution_count": null,
   "id": "b859ec14",
   "metadata": {},
   "outputs": [],
   "source": [
    "ras_object=rc(adata,model)"
   ]
  },
  {
   "cell_type": "code",
   "execution_count": null,
   "id": "98516a1f",
   "metadata": {},
   "outputs": [],
   "source": [
    "import numpy as np\n",
    "import time\n",
    "t0= time.time()\n",
    "ras_adata=ras_object.compute(\n",
    "                             or_expression=np.nansum,   #which operation for or_expression? default is np.nansum\n",
    "                             and_expression=np.nanmin,  #which operation for and_expression? default is np.nanmin     \n",
    "                             drop_na_rows=True,         #drop nan rows. Default is True\n",
    "                             drop_duplicates=False      #drop duplicates values for ras.  Default is false\n",
    "                            )\n",
    "ras_adata\n",
    "\n",
    "t1 = time.time()-t0\n",
    "print(\"Time elapsed: \", t1) # CPU seconds elapsed (floating point)"
   ]
  },
  {
   "cell_type": "code",
   "execution_count": null,
   "metadata": {},
   "outputs": [],
   "source": [
    "ras_adata.to_df()"
   ]
  },
  {
   "cell_type": "code",
   "execution_count": null,
   "id": "3361e82d",
   "metadata": {},
   "outputs": [],
   "source": [
    "ras_adata.obs"
   ]
  },
  {
   "cell_type": "code",
   "execution_count": null,
   "id": "d876d9b5",
   "metadata": {},
   "outputs": [],
   "source": [
    "ras_adata.var"
   ]
  },
  {
   "cell_type": "markdown",
   "id": "00a2caa0",
   "metadata": {},
   "source": [
    "## Save the results"
   ]
  },
  {
   "cell_type": "code",
   "execution_count": null,
   "id": "63c9f75d",
   "metadata": {},
   "outputs": [],
   "source": [
    "from scipy.sparse import csr_matrix\n",
    "ras_adata.X = csr_matrix(ras_adata.X)"
   ]
  },
  {
   "cell_type": "code",
   "execution_count": null,
   "id": "964e69d1",
   "metadata": {},
   "outputs": [],
   "source": [
    "ras_adata.write(\"../datasets/E-GEOD-86618_ras_adata\")"
   ]
  }
 ],
 "metadata": {
  "kernelspec": {
   "display_name": "Python 3",
   "language": "python",
   "name": "python3"
  },
  "language_info": {
   "codemirror_mode": {
    "name": "ipython",
    "version": 3
   },
   "file_extension": ".py",
   "mimetype": "text/x-python",
   "name": "python",
   "nbconvert_exporter": "python",
   "pygments_lexer": "ipython3",
   "version": "3.8.10"
  }
 },
 "nbformat": 4,
 "nbformat_minor": 5
}
